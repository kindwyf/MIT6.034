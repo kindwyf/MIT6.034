{
 "cells": [
  {
   "cell_type": "code",
   "execution_count": 3,
   "id": "62b8468d",
   "metadata": {},
   "outputs": [],
   "source": [
    "pat = ('a','b')\n",
    "lst = ('a','b', 'c', 'e', 'b', 'a', 'b', 'f')"
   ]
  },
  {
   "cell_type": "code",
   "execution_count": 2,
   "id": "550c0529",
   "metadata": {},
   "outputs": [
    {
     "data": {
      "text/plain": [
       "0"
      ]
     },
     "execution_count": 2,
     "metadata": {},
     "output_type": "execute_result"
    }
   ],
   "source": [
    "lst.count(pat)"
   ]
  },
  {
   "cell_type": "code",
   "execution_count": 3,
   "id": "9e5c5f56",
   "metadata": {},
   "outputs": [
    {
     "data": {
      "text/plain": [
       "4"
      ]
     },
     "execution_count": 3,
     "metadata": {},
     "output_type": "execute_result"
    }
   ],
   "source": [
    "lst.count('a')"
   ]
  },
  {
   "cell_type": "code",
   "execution_count": 4,
   "id": "77279c38",
   "metadata": {},
   "outputs": [
    {
     "ename": "AttributeError",
     "evalue": "'tuple' object has no attribute 'size'",
     "output_type": "error",
     "traceback": [
      "\u001b[1;31m---------------------------------------------------------------------------\u001b[0m",
      "\u001b[1;31mAttributeError\u001b[0m                            Traceback (most recent call last)",
      "Input \u001b[1;32mIn [4]\u001b[0m, in \u001b[0;36m<cell line: 1>\u001b[1;34m()\u001b[0m\n\u001b[1;32m----> 1\u001b[0m \u001b[43mpat\u001b[49m\u001b[38;5;241;43m.\u001b[39;49m\u001b[43msize\u001b[49m()\n",
      "\u001b[1;31mAttributeError\u001b[0m: 'tuple' object has no attribute 'size'"
     ]
    }
   ],
   "source": [
    "pat.size()"
   ]
  },
  {
   "cell_type": "code",
   "execution_count": 5,
   "id": "1d5bdeb5",
   "metadata": {},
   "outputs": [
    {
     "ename": "AttributeError",
     "evalue": "'tuple' object has no attribute 'length'",
     "output_type": "error",
     "traceback": [
      "\u001b[1;31m---------------------------------------------------------------------------\u001b[0m",
      "\u001b[1;31mAttributeError\u001b[0m                            Traceback (most recent call last)",
      "Input \u001b[1;32mIn [5]\u001b[0m, in \u001b[0;36m<cell line: 1>\u001b[1;34m()\u001b[0m\n\u001b[1;32m----> 1\u001b[0m \u001b[43mpat\u001b[49m\u001b[38;5;241;43m.\u001b[39;49m\u001b[43mlength\u001b[49m()\n",
      "\u001b[1;31mAttributeError\u001b[0m: 'tuple' object has no attribute 'length'"
     ]
    }
   ],
   "source": [
    "pat.length()"
   ]
  },
  {
   "cell_type": "code",
   "execution_count": 6,
   "id": "f5c06968",
   "metadata": {},
   "outputs": [
    {
     "data": {
      "text/plain": [
       "3"
      ]
     },
     "execution_count": 6,
     "metadata": {},
     "output_type": "execute_result"
    }
   ],
   "source": [
    "len(pat)"
   ]
  },
  {
   "cell_type": "code",
   "execution_count": 7,
   "id": "90580695",
   "metadata": {},
   "outputs": [
    {
     "ename": "TypeError",
     "evalue": "'tuple' object is not callable",
     "output_type": "error",
     "traceback": [
      "\u001b[1;31m---------------------------------------------------------------------------\u001b[0m",
      "\u001b[1;31mTypeError\u001b[0m                                 Traceback (most recent call last)",
      "Input \u001b[1;32mIn [7]\u001b[0m, in \u001b[0;36m<cell line: 1>\u001b[1;34m()\u001b[0m\n\u001b[1;32m----> 1\u001b[0m \u001b[43mpat\u001b[49m\u001b[43m(\u001b[49m\u001b[38;5;241;43m1\u001b[39;49m\u001b[43m)\u001b[49m\n",
      "\u001b[1;31mTypeError\u001b[0m: 'tuple' object is not callable"
     ]
    }
   ],
   "source": [
    "pat(1)"
   ]
  },
  {
   "cell_type": "code",
   "execution_count": 8,
   "id": "3c3a5774",
   "metadata": {},
   "outputs": [
    {
     "data": {
      "text/plain": [
       "'b'"
      ]
     },
     "execution_count": 8,
     "metadata": {},
     "output_type": "execute_result"
    }
   ],
   "source": [
    "pat[1]"
   ]
  },
  {
   "cell_type": "code",
   "execution_count": 5,
   "id": "f5e4534c",
   "metadata": {},
   "outputs": [
    {
     "name": "stdout",
     "output_type": "stream",
     "text": [
      "8\n"
     ]
    }
   ],
   "source": [
    "count = 0;\n",
    "i = 0;\n",
    "j = 0;\n",
    "while(i<len(lst)):\n",
    "    index = 1;\n",
    "    k = i;\n",
    "    while(j<len(pat)):\n",
    "        if(pat[j]!=lst[k]):\n",
    "            index = 0;\n",
    "            break;\n",
    "        k += 1;\n",
    "        j += 1;\n",
    "    if index:\n",
    "        count += 1;\n",
    "    i += 1;\n",
    "print(count)"
   ]
  },
  {
   "cell_type": "code",
   "execution_count": 6,
   "id": "d42c6c67",
   "metadata": {},
   "outputs": [
    {
     "ename": "AttributeError",
     "evalue": "'tuple' object has no attribute 'find'",
     "output_type": "error",
     "traceback": [
      "\u001b[1;31m---------------------------------------------------------------------------\u001b[0m",
      "\u001b[1;31mAttributeError\u001b[0m                            Traceback (most recent call last)",
      "Input \u001b[1;32mIn [6]\u001b[0m, in \u001b[0;36m<cell line: 1>\u001b[1;34m()\u001b[0m\n\u001b[1;32m----> 1\u001b[0m \u001b[43mlst\u001b[49m\u001b[38;5;241;43m.\u001b[39;49m\u001b[43mfind\u001b[49m(pat)\n",
      "\u001b[1;31mAttributeError\u001b[0m: 'tuple' object has no attribute 'find'"
     ]
    }
   ],
   "source": [
    "lst.find(pat)"
   ]
  },
  {
   "cell_type": "code",
   "execution_count": 7,
   "id": "24997648",
   "metadata": {},
   "outputs": [
    {
     "ename": "AttributeError",
     "evalue": "'tuple' object has no attribute 'match'",
     "output_type": "error",
     "traceback": [
      "\u001b[1;31m---------------------------------------------------------------------------\u001b[0m",
      "\u001b[1;31mAttributeError\u001b[0m                            Traceback (most recent call last)",
      "Input \u001b[1;32mIn [7]\u001b[0m, in \u001b[0;36m<cell line: 1>\u001b[1;34m()\u001b[0m\n\u001b[1;32m----> 1\u001b[0m \u001b[43mlst\u001b[49m\u001b[38;5;241;43m.\u001b[39;49m\u001b[43mmatch\u001b[49m(pat)\n",
      "\u001b[1;31mAttributeError\u001b[0m: 'tuple' object has no attribute 'match'"
     ]
    }
   ],
   "source": [
    "lst.match(pat)"
   ]
  },
  {
   "cell_type": "code",
   "execution_count": 1,
   "id": "fde295a5",
   "metadata": {},
   "outputs": [
    {
     "name": "stdout",
     "output_type": "stream",
     "text": [
      "0\n",
      "1\n",
      "2\n"
     ]
    }
   ],
   "source": [
    "for i in range(0,3):\n",
    "    print(i)"
   ]
  },
  {
   "cell_type": "code",
   "execution_count": 2,
   "id": "879cb1d2",
   "metadata": {},
   "outputs": [],
   "source": [
    "lst = ['x',['+',2]]"
   ]
  },
  {
   "cell_type": "code",
   "execution_count": 10,
   "id": "bd8c1494",
   "metadata": {},
   "outputs": [
    {
     "data": {
      "text/plain": [
       "2"
      ]
     },
     "execution_count": 10,
     "metadata": {},
     "output_type": "execute_result"
    }
   ],
   "source": [
    "len(lst)"
   ]
  },
  {
   "cell_type": "code",
   "execution_count": 11,
   "id": "ff7fa5d4",
   "metadata": {},
   "outputs": [],
   "source": [
    "tup = (((1, 2), 3), (4, (5, 6)), 7, (8, 9, 10))"
   ]
  },
  {
   "cell_type": "code",
   "execution_count": 12,
   "id": "03a6701e",
   "metadata": {},
   "outputs": [
    {
     "ename": "TypeError",
     "evalue": "'tuple' object is not callable",
     "output_type": "error",
     "traceback": [
      "\u001b[1;31m---------------------------------------------------------------------------\u001b[0m",
      "\u001b[1;31mTypeError\u001b[0m                                 Traceback (most recent call last)",
      "Input \u001b[1;32mIn [12]\u001b[0m, in \u001b[0;36m<cell line: 1>\u001b[1;34m()\u001b[0m\n\u001b[1;32m----> 1\u001b[0m \u001b[43mtup\u001b[49m\u001b[43m(\u001b[49m\u001b[38;5;241;43m3\u001b[39;49m\u001b[43m,\u001b[49m\u001b[38;5;241;43m1\u001b[39;49m\u001b[43m)\u001b[49m\n",
      "\u001b[1;31mTypeError\u001b[0m: 'tuple' object is not callable"
     ]
    }
   ],
   "source": [
    "tup(3,1)"
   ]
  },
  {
   "cell_type": "code",
   "execution_count": 1,
   "id": "9eec2b5e",
   "metadata": {},
   "outputs": [
    {
     "ename": "NameError",
     "evalue": "name 'tup' is not defined",
     "output_type": "error",
     "traceback": [
      "\u001b[1;31m---------------------------------------------------------------------------\u001b[0m",
      "\u001b[1;31mNameError\u001b[0m                                 Traceback (most recent call last)",
      "Input \u001b[1;32mIn [1]\u001b[0m, in \u001b[0;36m<cell line: 1>\u001b[1;34m()\u001b[0m\n\u001b[1;32m----> 1\u001b[0m \u001b[43mtup\u001b[49m[\u001b[38;5;241m3\u001b[39m][\u001b[38;5;241m1\u001b[39m]\n",
      "\u001b[1;31mNameError\u001b[0m: name 'tup' is not defined"
     ]
    }
   ],
   "source": [
    "tup[3][1]"
   ]
  },
  {
   "cell_type": "code",
   "execution_count": 14,
   "id": "46bcd964",
   "metadata": {},
   "outputs": [
    {
     "data": {
      "text/plain": [
       "((1, 2), 3)"
      ]
     },
     "execution_count": 14,
     "metadata": {},
     "output_type": "execute_result"
    }
   ],
   "source": [
    "tup[0]"
   ]
  },
  {
   "cell_type": "code",
   "execution_count": 15,
   "id": "73211deb",
   "metadata": {},
   "outputs": [
    {
     "data": {
      "text/plain": [
       "4"
      ]
     },
     "execution_count": 15,
     "metadata": {},
     "output_type": "execute_result"
    }
   ],
   "source": [
    "len(tup)"
   ]
  },
  {
   "cell_type": "code",
   "execution_count": 4,
   "id": "da538088",
   "metadata": {},
   "outputs": [],
   "source": [
    "a=(0,2,3)"
   ]
  },
  {
   "cell_type": "code",
   "execution_count": 5,
   "id": "a35b268f",
   "metadata": {},
   "outputs": [
    {
     "data": {
      "text/plain": [
       "3"
      ]
     },
     "execution_count": 5,
     "metadata": {},
     "output_type": "execute_result"
    }
   ],
   "source": [
    "len(a)"
   ]
  },
  {
   "cell_type": "code",
   "execution_count": 6,
   "id": "8337592a",
   "metadata": {},
   "outputs": [
    {
     "name": "stdout",
     "output_type": "stream",
     "text": [
      "0\n",
      "2\n",
      "3\n"
     ]
    }
   ],
   "source": [
    "for i in a:\n",
    "    print(i)"
   ]
  },
  {
   "cell_type": "code",
   "execution_count": 21,
   "id": "ccc505d8",
   "metadata": {},
   "outputs": [],
   "source": [
    "terms = [1,2,[3,4]]\n",
    "a = []\n",
    "b = []"
   ]
  },
  {
   "cell_type": "code",
   "execution_count": 27,
   "id": "fbcf351c",
   "metadata": {},
   "outputs": [],
   "source": [
    "def pan(x):\n",
    "    if x>2:\n",
    "        print(\">\")\n",
    "    else:\n",
    "        print(\"<\")"
   ]
  },
  {
   "cell_type": "code",
   "execution_count": 29,
   "id": "750cee3b",
   "metadata": {},
   "outputs": [
    {
     "ename": "SyntaxError",
     "evalue": "invalid syntax (2949442605.py, line 1)",
     "output_type": "error",
     "traceback": [
      "\u001b[1;36m  Input \u001b[1;32mIn [29]\u001b[1;36m\u001b[0m\n\u001b[1;33m    pan(term) for term in terms\u001b[0m\n\u001b[1;37m              ^\u001b[0m\n\u001b[1;31mSyntaxError\u001b[0m\u001b[1;31m:\u001b[0m invalid syntax\n"
     ]
    }
   ],
   "source": [
    "pan(term) for term in terms"
   ]
  },
  {
   "cell_type": "code",
   "execution_count": 10,
   "id": "4d3c93bc",
   "metadata": {},
   "outputs": [
    {
     "name": "stdout",
     "output_type": "stream",
     "text": [
      "[['e1', 'e3'], ['e2', 'e4'], ['e5']]\n"
     ]
    }
   ],
   "source": [
    "paths = [['e1','e3'],['e2','e4']]\n",
    "path = ['e5']\n",
    "paths.append(path)\n",
    "print(paths)"
   ]
  },
  {
   "cell_type": "code",
   "execution_count": 13,
   "id": "023df3c6",
   "metadata": {},
   "outputs": [
    {
     "name": "stdout",
     "output_type": "stream",
     "text": [
      "[['e2', 'e4']]\n"
     ]
    }
   ],
   "source": [
    "paths.remove(path)\n",
    "print(paths)"
   ]
  },
  {
   "cell_type": "code",
   "execution_count": 7,
   "id": "00965fb2",
   "metadata": {},
   "outputs": [
    {
     "name": "stdout",
     "output_type": "stream",
     "text": [
      "['A', 'B']\n",
      "['B']\n"
     ]
    }
   ],
   "source": [
    "paths = ['A','B']\n",
    "print(paths)\n",
    "path = ['A']\n",
    "for node in paths:\n",
    "    if node in path:\n",
    "        paths.remove(node)\n",
    "print(paths)"
   ]
  },
  {
   "cell_type": "code",
   "execution_count": 8,
   "id": "123597e8",
   "metadata": {},
   "outputs": [
    {
     "name": "stdout",
     "output_type": "stream",
     "text": [
      "[['c', '2'], ['a', '6'], ['b', '7']]\n"
     ]
    }
   ],
   "source": [
    "paths = [['a','6'],['b','7'],['c','2']]\n",
    "paths = sorted(paths, key=lambda d:d[-1])\n",
    "print(paths)"
   ]
  },
  {
   "cell_type": "code",
   "execution_count": 10,
   "id": "f772d58b",
   "metadata": {},
   "outputs": [
    {
     "name": "stdout",
     "output_type": "stream",
     "text": [
      "[['c', '2'], ['a', '6'], ['b', '7']]\n"
     ]
    }
   ],
   "source": [
    "import math\n",
    "paths = [['a','6'],['b','7'],['c','2']]\n",
    "paths = sorted(paths, key=lambda d:math.sqrt(int(d[-1])))\n",
    "print(paths)"
   ]
  },
  {
   "cell_type": "code",
   "execution_count": 11,
   "id": "f45b3a8e",
   "metadata": {},
   "outputs": [
    {
     "name": "stdout",
     "output_type": "stream",
     "text": [
      "0\n",
      "1\n"
     ]
    }
   ],
   "source": [
    "x = 2\n",
    "for i in range(x):\n",
    "    print (i)"
   ]
  },
  {
   "cell_type": "code",
   "execution_count": null,
   "id": "1e6687d4",
   "metadata": {},
   "outputs": [],
   "source": []
  }
 ],
 "metadata": {
  "kernelspec": {
   "display_name": "Python 3 (ipykernel)",
   "language": "python",
   "name": "python3"
  },
  "language_info": {
   "codemirror_mode": {
    "name": "ipython",
    "version": 3
   },
   "file_extension": ".py",
   "mimetype": "text/x-python",
   "name": "python",
   "nbconvert_exporter": "python",
   "pygments_lexer": "ipython3",
   "version": "3.10.4"
  },
  "toc": {
   "base_numbering": 1,
   "nav_menu": {},
   "number_sections": true,
   "sideBar": true,
   "skip_h1_title": false,
   "title_cell": "Table of Contents",
   "title_sidebar": "Contents",
   "toc_cell": false,
   "toc_position": {},
   "toc_section_display": true,
   "toc_window_display": false
  }
 },
 "nbformat": 4,
 "nbformat_minor": 5
}
